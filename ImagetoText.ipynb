{
  "nbformat": 4,
  "nbformat_minor": 0,
  "metadata": {
    "colab": {
      "name": "ImagetoText.ipynb",
      "provenance": []
    },
    "kernelspec": {
      "name": "python3",
      "display_name": "Python 3"
    }
  },
  "cells": [
    {
      "cell_type": "code",
      "metadata": {
        "colab": {
          "base_uri": "https://localhost:8080/"
        },
        "id": "gJpgOrQTyYYP",
        "outputId": "8c8555ae-280f-4ba2-f29d-955257a502e8"
      },
      "source": [
        "! apt install tesseract-ocr\r\n",
        "! apt install libtesseract-dev\r\n",
        "! pip install Pillow\r\n",
        "! pip install pytesseract\r\n",
        "! pip install opencv-python"
      ],
      "execution_count": 32,
      "outputs": [
        {
          "output_type": "stream",
          "text": [
            "Reading package lists... Done\n",
            "Building dependency tree       \n",
            "Reading state information... Done\n",
            "tesseract-ocr is already the newest version (4.00~git2288-10f4998a-2).\n",
            "0 upgraded, 0 newly installed, 0 to remove and 15 not upgraded.\n",
            "Reading package lists... Done\n",
            "Building dependency tree       \n",
            "Reading state information... Done\n",
            "libtesseract-dev is already the newest version (4.00~git2288-10f4998a-2).\n",
            "0 upgraded, 0 newly installed, 0 to remove and 15 not upgraded.\n",
            "Requirement already satisfied: Pillow in /usr/local/lib/python3.6/dist-packages (7.0.0)\n",
            "Requirement already satisfied: pytesseract in /usr/local/lib/python3.6/dist-packages (0.3.7)\n",
            "Requirement already satisfied: Pillow in /usr/local/lib/python3.6/dist-packages (from pytesseract) (7.0.0)\n",
            "Requirement already satisfied: opencv-python in /usr/local/lib/python3.6/dist-packages (4.1.2.30)\n",
            "Requirement already satisfied: numpy>=1.11.3 in /usr/local/lib/python3.6/dist-packages (from opencv-python) (1.19.4)\n"
          ],
          "name": "stdout"
        }
      ]
    },
    {
      "cell_type": "code",
      "metadata": {
        "id": "cwJd278vy4ly"
      },
      "source": [
        "import cv2\r\n",
        "import pytesseract\r\n",
        "\r\n",
        "image = cv2.imread('image.jpg')\r\n",
        "#converting image into gray scale image\r\n",
        "gray_image = cv2.cvtColor(image, cv2.COLOR_BGR2GRAY)\r\n",
        "# converting it to binary image by Thresholding\r\n",
        "# this step is require if you have colored image because if you skip this part \r\n",
        "# then tesseract won't able to detect text correctly and this will give incorrect result\r\n",
        "threshold_img = cv2.threshold(gray_image, 0, 255, cv2.THRESH_BINARY | cv2.THRESH_OTSU)[1]\r\n"
      ],
      "execution_count": 33,
      "outputs": []
    },
    {
      "cell_type": "code",
      "metadata": {
        "id": "WdZjU-7UzfGe",
        "colab": {
          "base_uri": "https://localhost:8080/"
        },
        "outputId": "5bacbb0a-76d5-40cf-c2f7-10fca5009ed8"
      },
      "source": [
        "#configuring parameters for tesseract\r\n",
        "from pytesseract import Output\r\n",
        "custom_config = r'--oem 3 --psm 6'\r\n",
        "# now feeding image to tesseract\r\n",
        "details = pytesseract.image_to_data(threshold_img, output_type=Output.DICT, config=custom_config, lang='eng')\r\n",
        "print(details.keys())"
      ],
      "execution_count": 34,
      "outputs": [
        {
          "output_type": "stream",
          "text": [
            "dict_keys(['level', 'page_num', 'block_num', 'par_num', 'line_num', 'word_num', 'left', 'top', 'width', 'height', 'conf', 'text'])\n"
          ],
          "name": "stdout"
        }
      ]
    },
    {
      "cell_type": "code",
      "metadata": {
        "id": "vk5-8M9Ky_g6"
      },
      "source": [
        "total_boxes = len(details['text'])\r\n",
        "for sequence_number in range(total_boxes):\r\n",
        "  if int(details['conf'][sequence_number]) >30:\r\n",
        "    (x, y, w, h) = (details['left'][sequence_number], details['top'][sequence_number], details['width'][sequence_number],  details['height'][sequence_number])\r\n",
        "    threshold_img = cv2.rectangle(threshold_img, (x, y), (x + w, y + h), (0, 255, 0), 2)\r\n",
        "\r\n"
      ],
      "execution_count": 35,
      "outputs": []
    },
    {
      "cell_type": "code",
      "metadata": {
        "id": "CbN_Uz8WzGS1"
      },
      "source": [
        "parse_text = []\r\n",
        "word_list = []\r\n",
        "last_word = ''\r\n",
        "for word in details['text']:\r\n",
        "  if word!='':\r\n",
        "    word_list.append(word)\r\n",
        "    last_word = word\r\n",
        "  if (last_word!='' and word == '') or (word==details['text'][-1]):\r\n",
        "    parse_text.append(word_list)\r\n",
        "    word_list = []"
      ],
      "execution_count": 36,
      "outputs": []
    },
    {
      "cell_type": "code",
      "metadata": {
        "id": "sZWXW1cqzLD2"
      },
      "source": [
        "import csv\r\n",
        "with open('result_text.txt','w', newline=\"\") as file:\r\n",
        "  csv.writer(file, delimiter=\" \").writerows(parse_text)"
      ],
      "execution_count": 37,
      "outputs": []
    },
    {
      "cell_type": "code",
      "metadata": {
        "id": "fPKwyoLLyVlz"
      },
      "source": [
        ""
      ],
      "execution_count": null,
      "outputs": []
    }
  ]
}